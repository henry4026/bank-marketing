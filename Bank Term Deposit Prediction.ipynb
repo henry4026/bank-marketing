{
 "cells": [
  {
   "cell_type": "code",
   "execution_count": 1,
   "metadata": {},
   "outputs": [
    {
     "name": "stdout",
     "output_type": "stream",
     "text": [
      "Collecting imblearn\n",
      "  Downloading https://files.pythonhosted.org/packages/81/a7/4179e6ebfd654bd0eac0b9c06125b8b4c96a9d0a8ff9e9507eb2a26d2d7e/imblearn-0.0-py2.py3-none-any.whl\n",
      "Collecting imbalanced-learn\n",
      "\u001b[?25l  Downloading https://files.pythonhosted.org/packages/c8/81/8db4d87b03b998fda7c6f835d807c9ae4e3b141f978597b8d7f31600be15/imbalanced_learn-0.7.0-py3-none-any.whl (167kB)\n",
      "\u001b[K     |████████████████████████████████| 174kB 14.1MB/s eta 0:00:01\n",
      "\u001b[?25hRequirement already satisfied: joblib>=0.11 in /home/ec2-user/anaconda3/envs/tensorflow_p36/lib/python3.6/site-packages (from imbalanced-learn->imblearn) (0.14.1)\n",
      "Requirement already satisfied: scipy>=0.19.1 in /home/ec2-user/anaconda3/envs/tensorflow_p36/lib/python3.6/site-packages (from imbalanced-learn->imblearn) (1.4.1)\n",
      "Collecting scikit-learn>=0.23\n",
      "\u001b[?25l  Downloading https://files.pythonhosted.org/packages/d9/3a/eb8d7bbe28f4787d140bb9df685b7d5bf6115c0e2a969def4027144e98b6/scikit_learn-0.23.1-cp36-cp36m-manylinux1_x86_64.whl (6.8MB)\n",
      "\u001b[K     |████████████████████████████████| 6.9MB 26.0MB/s eta 0:00:01\n",
      "\u001b[?25hRequirement already satisfied: numpy>=1.13.3 in /home/ec2-user/anaconda3/envs/tensorflow_p36/lib/python3.6/site-packages (from imbalanced-learn->imblearn) (1.16.4)\n",
      "Collecting threadpoolctl>=2.0.0\n",
      "  Downloading https://files.pythonhosted.org/packages/f7/12/ec3f2e203afa394a149911729357aa48affc59c20e2c1c8297a60f33f133/threadpoolctl-2.1.0-py3-none-any.whl\n",
      "Installing collected packages: threadpoolctl, scikit-learn, imbalanced-learn, imblearn\n",
      "  Found existing installation: scikit-learn 0.22.1\n",
      "    Uninstalling scikit-learn-0.22.1:\n",
      "      Successfully uninstalled scikit-learn-0.22.1\n",
      "Successfully installed imbalanced-learn-0.7.0 imblearn-0.0 scikit-learn-0.23.1 threadpoolctl-2.1.0\n",
      "\u001b[33mWARNING: You are using pip version 19.3.1; however, version 20.1.1 is available.\n",
      "You should consider upgrading via the 'pip install --upgrade pip' command.\u001b[0m\n",
      "Collecting xgboost\n",
      "\u001b[?25l  Downloading https://files.pythonhosted.org/packages/7c/32/a11befbb003e0e6b7e062a77f010dfcec0ec3589be537b02d2eb2ff93b9a/xgboost-1.1.1-py3-none-manylinux2010_x86_64.whl (127.6MB)\n",
      "\u001b[K     |████████████████████████████████| 127.6MB 90kB/s s eta 0:00:01    |███████████████▌                | 61.8MB 53.8MB/s eta 0:00:02\n",
      "\u001b[?25hRequirement already satisfied: numpy in /home/ec2-user/anaconda3/envs/tensorflow_p36/lib/python3.6/site-packages (from xgboost) (1.16.4)\n",
      "Requirement already satisfied: scipy in /home/ec2-user/anaconda3/envs/tensorflow_p36/lib/python3.6/site-packages (from xgboost) (1.4.1)\n",
      "Installing collected packages: xgboost\n",
      "Successfully installed xgboost-1.1.1\n",
      "\u001b[33mWARNING: You are using pip version 19.3.1; however, version 20.1.1 is available.\n",
      "You should consider upgrading via the 'pip install --upgrade pip' command.\u001b[0m\n"
     ]
    }
   ],
   "source": [
    "!pip install imblearn\n",
    "!pip install xgboost"
   ]
  },
  {
   "cell_type": "code",
   "execution_count": 2,
   "metadata": {},
   "outputs": [],
   "source": [
    "import pandas as pd\n",
    "import numpy as np\n",
    "import matplotlib.pyplot as plt\n",
    "%load_ext autoreload\n",
    "%autoreload 2\n",
    "%matplotlib inline"
   ]
  },
  {
   "cell_type": "code",
   "execution_count": 3,
   "metadata": {},
   "outputs": [
    {
     "name": "stdout",
     "output_type": "stream",
     "text": [
      "WARNING:tensorflow:From /home/ec2-user/anaconda3/envs/tensorflow_p36/lib/python3.6/site-packages/tensorflow_core/__init__.py:1467: The name tf.estimator.inputs is deprecated. Please use tf.compat.v1.estimator.inputs instead.\n",
      "\n"
     ]
    }
   ],
   "source": [
    "import seaborn as sns\n",
    "import tensorflow as tf\n",
    "from tensorflow.keras import layers\n",
    "keras = tf.keras\n",
    "from tensorflow.keras.layers import Dropout,Dense\n",
    "from tensorflow.keras.callbacks import History"
   ]
  },
  {
   "cell_type": "code",
   "execution_count": 4,
   "metadata": {},
   "outputs": [],
   "source": [
    "from sklearn.model_selection import train_test_split\n",
    "from imblearn.over_sampling import SMOTE"
   ]
  },
  {
   "cell_type": "code",
   "execution_count": 5,
   "metadata": {},
   "outputs": [],
   "source": [
    "from sklearn.linear_model import LogisticRegression\n",
    "from sklearn.metrics import r2_score\n",
    "from sklearn.metrics import f1_score\n",
    "from sklearn.ensemble import RandomForestClassifier\n",
    "from sklearn.ensemble import GradientBoostingClassifier\n",
    "from xgboost import XGBClassifier\n",
    "from xgboost import plot_importance"
   ]
  },
  {
   "cell_type": "code",
   "execution_count": 6,
   "metadata": {},
   "outputs": [],
   "source": [
    "from sklearn.metrics import confusion_matrix"
   ]
  },
  {
   "cell_type": "code",
   "execution_count": 7,
   "metadata": {},
   "outputs": [],
   "source": [
    "import src.profit as f"
   ]
  },
  {
   "cell_type": "code",
   "execution_count": 8,
   "metadata": {},
   "outputs": [],
   "source": [
    "data = pd.read_csv('bank-additional-full.csv',sep=';')"
   ]
  },
  {
   "cell_type": "code",
   "execution_count": 9,
   "metadata": {},
   "outputs": [],
   "source": [
    "new_data = data.copy()"
   ]
  },
  {
   "cell_type": "code",
   "execution_count": 10,
   "metadata": {},
   "outputs": [
    {
     "name": "stdout",
     "output_type": "stream",
     "text": [
      "<class 'pandas.core.frame.DataFrame'>\n",
      "RangeIndex: 41188 entries, 0 to 41187\n",
      "Data columns (total 21 columns):\n",
      "age               41188 non-null int64\n",
      "job               41188 non-null object\n",
      "marital           41188 non-null object\n",
      "education         41188 non-null object\n",
      "default           41188 non-null object\n",
      "housing           41188 non-null object\n",
      "loan              41188 non-null object\n",
      "contact           41188 non-null object\n",
      "month             41188 non-null object\n",
      "day_of_week       41188 non-null object\n",
      "duration          41188 non-null int64\n",
      "campaign          41188 non-null int64\n",
      "pdays             41188 non-null int64\n",
      "previous          41188 non-null int64\n",
      "poutcome          41188 non-null object\n",
      "emp.var.rate      41188 non-null float64\n",
      "cons.price.idx    41188 non-null float64\n",
      "cons.conf.idx     41188 non-null float64\n",
      "euribor3m         41188 non-null float64\n",
      "nr.employed       41188 non-null float64\n",
      "y                 41188 non-null object\n",
      "dtypes: float64(5), int64(5), object(11)\n",
      "memory usage: 6.6+ MB\n"
     ]
    }
   ],
   "source": [
    "data.info()"
   ]
  },
  {
   "cell_type": "code",
   "execution_count": 11,
   "metadata": {},
   "outputs": [
    {
     "data": {
      "text/html": [
       "<div>\n",
       "<style scoped>\n",
       "    .dataframe tbody tr th:only-of-type {\n",
       "        vertical-align: middle;\n",
       "    }\n",
       "\n",
       "    .dataframe tbody tr th {\n",
       "        vertical-align: top;\n",
       "    }\n",
       "\n",
       "    .dataframe thead th {\n",
       "        text-align: right;\n",
       "    }\n",
       "</style>\n",
       "<table border=\"1\" class=\"dataframe\">\n",
       "  <thead>\n",
       "    <tr style=\"text-align: right;\">\n",
       "      <th></th>\n",
       "      <th>age</th>\n",
       "      <th>duration</th>\n",
       "      <th>campaign</th>\n",
       "      <th>pdays</th>\n",
       "      <th>previous</th>\n",
       "      <th>emp.var.rate</th>\n",
       "      <th>cons.price.idx</th>\n",
       "      <th>cons.conf.idx</th>\n",
       "      <th>euribor3m</th>\n",
       "      <th>nr.employed</th>\n",
       "    </tr>\n",
       "  </thead>\n",
       "  <tbody>\n",
       "    <tr>\n",
       "      <th>count</th>\n",
       "      <td>41188.00000</td>\n",
       "      <td>41188.000000</td>\n",
       "      <td>41188.000000</td>\n",
       "      <td>41188.000000</td>\n",
       "      <td>41188.000000</td>\n",
       "      <td>41188.000000</td>\n",
       "      <td>41188.000000</td>\n",
       "      <td>41188.000000</td>\n",
       "      <td>41188.000000</td>\n",
       "      <td>41188.000000</td>\n",
       "    </tr>\n",
       "    <tr>\n",
       "      <th>mean</th>\n",
       "      <td>40.02406</td>\n",
       "      <td>258.285010</td>\n",
       "      <td>2.567593</td>\n",
       "      <td>962.475454</td>\n",
       "      <td>0.172963</td>\n",
       "      <td>0.081886</td>\n",
       "      <td>93.575664</td>\n",
       "      <td>-40.502600</td>\n",
       "      <td>3.621291</td>\n",
       "      <td>5167.035911</td>\n",
       "    </tr>\n",
       "    <tr>\n",
       "      <th>std</th>\n",
       "      <td>10.42125</td>\n",
       "      <td>259.279249</td>\n",
       "      <td>2.770014</td>\n",
       "      <td>186.910907</td>\n",
       "      <td>0.494901</td>\n",
       "      <td>1.570960</td>\n",
       "      <td>0.578840</td>\n",
       "      <td>4.628198</td>\n",
       "      <td>1.734447</td>\n",
       "      <td>72.251528</td>\n",
       "    </tr>\n",
       "    <tr>\n",
       "      <th>min</th>\n",
       "      <td>17.00000</td>\n",
       "      <td>0.000000</td>\n",
       "      <td>1.000000</td>\n",
       "      <td>0.000000</td>\n",
       "      <td>0.000000</td>\n",
       "      <td>-3.400000</td>\n",
       "      <td>92.201000</td>\n",
       "      <td>-50.800000</td>\n",
       "      <td>0.634000</td>\n",
       "      <td>4963.600000</td>\n",
       "    </tr>\n",
       "    <tr>\n",
       "      <th>25%</th>\n",
       "      <td>32.00000</td>\n",
       "      <td>102.000000</td>\n",
       "      <td>1.000000</td>\n",
       "      <td>999.000000</td>\n",
       "      <td>0.000000</td>\n",
       "      <td>-1.800000</td>\n",
       "      <td>93.075000</td>\n",
       "      <td>-42.700000</td>\n",
       "      <td>1.344000</td>\n",
       "      <td>5099.100000</td>\n",
       "    </tr>\n",
       "    <tr>\n",
       "      <th>50%</th>\n",
       "      <td>38.00000</td>\n",
       "      <td>180.000000</td>\n",
       "      <td>2.000000</td>\n",
       "      <td>999.000000</td>\n",
       "      <td>0.000000</td>\n",
       "      <td>1.100000</td>\n",
       "      <td>93.749000</td>\n",
       "      <td>-41.800000</td>\n",
       "      <td>4.857000</td>\n",
       "      <td>5191.000000</td>\n",
       "    </tr>\n",
       "    <tr>\n",
       "      <th>75%</th>\n",
       "      <td>47.00000</td>\n",
       "      <td>319.000000</td>\n",
       "      <td>3.000000</td>\n",
       "      <td>999.000000</td>\n",
       "      <td>0.000000</td>\n",
       "      <td>1.400000</td>\n",
       "      <td>93.994000</td>\n",
       "      <td>-36.400000</td>\n",
       "      <td>4.961000</td>\n",
       "      <td>5228.100000</td>\n",
       "    </tr>\n",
       "    <tr>\n",
       "      <th>max</th>\n",
       "      <td>98.00000</td>\n",
       "      <td>4918.000000</td>\n",
       "      <td>56.000000</td>\n",
       "      <td>999.000000</td>\n",
       "      <td>7.000000</td>\n",
       "      <td>1.400000</td>\n",
       "      <td>94.767000</td>\n",
       "      <td>-26.900000</td>\n",
       "      <td>5.045000</td>\n",
       "      <td>5228.100000</td>\n",
       "    </tr>\n",
       "  </tbody>\n",
       "</table>\n",
       "</div>"
      ],
      "text/plain": [
       "               age      duration      campaign         pdays      previous  \\\n",
       "count  41188.00000  41188.000000  41188.000000  41188.000000  41188.000000   \n",
       "mean      40.02406    258.285010      2.567593    962.475454      0.172963   \n",
       "std       10.42125    259.279249      2.770014    186.910907      0.494901   \n",
       "min       17.00000      0.000000      1.000000      0.000000      0.000000   \n",
       "25%       32.00000    102.000000      1.000000    999.000000      0.000000   \n",
       "50%       38.00000    180.000000      2.000000    999.000000      0.000000   \n",
       "75%       47.00000    319.000000      3.000000    999.000000      0.000000   \n",
       "max       98.00000   4918.000000     56.000000    999.000000      7.000000   \n",
       "\n",
       "       emp.var.rate  cons.price.idx  cons.conf.idx     euribor3m   nr.employed  \n",
       "count  41188.000000    41188.000000   41188.000000  41188.000000  41188.000000  \n",
       "mean       0.081886       93.575664     -40.502600      3.621291   5167.035911  \n",
       "std        1.570960        0.578840       4.628198      1.734447     72.251528  \n",
       "min       -3.400000       92.201000     -50.800000      0.634000   4963.600000  \n",
       "25%       -1.800000       93.075000     -42.700000      1.344000   5099.100000  \n",
       "50%        1.100000       93.749000     -41.800000      4.857000   5191.000000  \n",
       "75%        1.400000       93.994000     -36.400000      4.961000   5228.100000  \n",
       "max        1.400000       94.767000     -26.900000      5.045000   5228.100000  "
      ]
     },
     "execution_count": 11,
     "metadata": {},
     "output_type": "execute_result"
    }
   ],
   "source": [
    "data.describe()"
   ]
  },
  {
   "cell_type": "code",
   "execution_count": 12,
   "metadata": {},
   "outputs": [
    {
     "name": "stderr",
     "output_type": "stream",
     "text": [
      "/home/ec2-user/anaconda3/envs/tensorflow_p36/lib/python3.6/site-packages/ipykernel/__main__.py:1: SettingWithCopyWarning: \n",
      "A value is trying to be set on a copy of a slice from a DataFrame\n",
      "\n",
      "See the caveats in the documentation: http://pandas.pydata.org/pandas-docs/stable/indexing.html#indexing-view-versus-copy\n",
      "  if __name__ == '__main__':\n",
      "/home/ec2-user/anaconda3/envs/tensorflow_p36/lib/python3.6/site-packages/ipykernel/__main__.py:2: SettingWithCopyWarning: \n",
      "A value is trying to be set on a copy of a slice from a DataFrame\n",
      "\n",
      "See the caveats in the documentation: http://pandas.pydata.org/pandas-docs/stable/indexing.html#indexing-view-versus-copy\n",
      "  from ipykernel import kernelapp as app\n"
     ]
    }
   ],
   "source": [
    "new_data.y[new_data.y == 'yes'] = 1 # convery label column to int\n",
    "new_data.y[new_data.y == 'no'] = 0 # convery label column to int"
   ]
  },
  {
   "cell_type": "code",
   "execution_count": 13,
   "metadata": {},
   "outputs": [
    {
     "data": {
      "text/plain": [
       "<matplotlib.axes._subplots.AxesSubplot at 0x7f1110dfeeb8>"
      ]
     },
     "execution_count": 13,
     "metadata": {},
     "output_type": "execute_result"
    },
    {
     "data": {
      "image/png": "[encoded data removed]",
      "text/plain": [
       "<Figure size 432x288 with 1 Axes>"
      ]
     },
     "metadata": {},
     "output_type": "display_data"
    }
   ],
   "source": [
    "sns.set(style='whitegrid')\n",
    "sns.boxplot(y='age',x='y',data=new_data)"
   ]
  },
  {
   "cell_type": "code",
   "execution_count": 14,
   "metadata": {},
   "outputs": [
    {
     "data": {
      "text/plain": [
       "<matplotlib.axes._subplots.AxesSubplot at 0x7f111090fd68>"
      ]
     },
     "execution_count": 14,
     "metadata": {},
     "output_type": "execute_result"
    },
    {
     "data": {
      "image/png": "[encoded data removed]",
      "text/plain": [
       "<Figure size 432x288 with 1 Axes>"
      ]
     },
     "metadata": {},
     "output_type": "display_data"
    }
   ],
   "source": [
    "sns.set(style='whitegrid')\n",
    "sns.countplot(y='loan',hue='y',data=new_data)"
   ]
  },
  {
   "cell_type": "code",
   "execution_count": 91,
   "metadata": {},
   "outputs": [
    {
     "data": {
      "image/png": "[encoded data removed]",
      "text/plain": [
       "<Figure size 432x288 with 1 Axes>"
      ]
     },
     "metadata": {},
     "output_type": "display_data"
    }
   ],
   "source": [
    "sns.set(style='whitegrid')\n",
    "ax = sns.countplot(x='y', data=new_data)\n",
    "total= float(len(new_data.y))\n",
    "for p in ax.patches:\n",
    "    height=p.get_height()\n",
    "    ax.text(p.get_x()+p.get_width()/2.,height+20,'{:1.2f}'.format(height/total),ha='center')\n",
    "ax.set(xlabel='client subscribe term deposit or not')\n",
    "ax.set_xticklabels(['no','yes'],fontsize=14)\n",
    "ax.set_yticklabels([0,5000,10000,15000,20000,25000,30000,35000],fontsize=14)\n",
    "plt.show()"
   ]
  },
  {
   "cell_type": "code",
   "execution_count": 98,
   "metadata": {},
   "outputs": [
    {
     "data": {
      "image/png": "[encoded data removed]",
      "text/plain": [
       "<Figure size 432x288 with 1 Axes>"
      ]
     },
     "metadata": {},
     "output_type": "display_data"
    }
   ],
   "source": [
    "p = sns.countplot(y='contact',hue='y',data=new_data)\n",
    "# ax.legend.new_labels=['no','yes']\n",
    "leg = p.get_legend()\n",
    "leg.set_title('')\n",
    "labs = leg.texts\n",
    "labs[0].set_text('no')\n",
    "labs[1].set_text('yes')"
   ]
  },
  {
   "cell_type": "code",
   "execution_count": 17,
   "metadata": {},
   "outputs": [
    {
     "data": {
      "text/html": [
       "<div>\n",
       "<style scoped>\n",
       "    .dataframe tbody tr th:only-of-type {\n",
       "        vertical-align: middle;\n",
       "    }\n",
       "\n",
       "    .dataframe tbody tr th {\n",
       "        vertical-align: top;\n",
       "    }\n",
       "\n",
       "    .dataframe thead th {\n",
       "        text-align: right;\n",
       "    }\n",
       "</style>\n",
       "<table border=\"1\" class=\"dataframe\">\n",
       "  <thead>\n",
       "    <tr style=\"text-align: right;\">\n",
       "      <th></th>\n",
       "      <th></th>\n",
       "      <th>age</th>\n",
       "      <th>job</th>\n",
       "      <th>marital</th>\n",
       "      <th>education</th>\n",
       "      <th>default</th>\n",
       "      <th>housing</th>\n",
       "      <th>loan</th>\n",
       "      <th>month</th>\n",
       "      <th>day_of_week</th>\n",
       "      <th>duration</th>\n",
       "      <th>campaign</th>\n",
       "      <th>pdays</th>\n",
       "      <th>previous</th>\n",
       "      <th>poutcome</th>\n",
       "      <th>emp.var.rate</th>\n",
       "      <th>cons.price.idx</th>\n",
       "      <th>cons.conf.idx</th>\n",
       "      <th>euribor3m</th>\n",
       "      <th>nr.employed</th>\n",
       "    </tr>\n",
       "    <tr>\n",
       "      <th>contact</th>\n",
       "      <th>y</th>\n",
       "      <th></th>\n",
       "      <th></th>\n",
       "      <th></th>\n",
       "      <th></th>\n",
       "      <th></th>\n",
       "      <th></th>\n",
       "      <th></th>\n",
       "      <th></th>\n",
       "      <th></th>\n",
       "      <th></th>\n",
       "      <th></th>\n",
       "      <th></th>\n",
       "      <th></th>\n",
       "      <th></th>\n",
       "      <th></th>\n",
       "      <th></th>\n",
       "      <th></th>\n",
       "      <th></th>\n",
       "      <th></th>\n",
       "    </tr>\n",
       "  </thead>\n",
       "  <tbody>\n",
       "    <tr>\n",
       "      <th rowspan=\"2\" valign=\"top\">cellular</th>\n",
       "      <th>0</th>\n",
       "      <td>22291</td>\n",
       "      <td>22291</td>\n",
       "      <td>22291</td>\n",
       "      <td>22291</td>\n",
       "      <td>22291</td>\n",
       "      <td>22291</td>\n",
       "      <td>22291</td>\n",
       "      <td>22291</td>\n",
       "      <td>22291</td>\n",
       "      <td>22291</td>\n",
       "      <td>22291</td>\n",
       "      <td>22291</td>\n",
       "      <td>22291</td>\n",
       "      <td>22291</td>\n",
       "      <td>22291</td>\n",
       "      <td>22291</td>\n",
       "      <td>22291</td>\n",
       "      <td>22291</td>\n",
       "      <td>22291</td>\n",
       "    </tr>\n",
       "    <tr>\n",
       "      <th>1</th>\n",
       "      <td>3853</td>\n",
       "      <td>3853</td>\n",
       "      <td>3853</td>\n",
       "      <td>3853</td>\n",
       "      <td>3853</td>\n",
       "      <td>3853</td>\n",
       "      <td>3853</td>\n",
       "      <td>3853</td>\n",
       "      <td>3853</td>\n",
       "      <td>3853</td>\n",
       "      <td>3853</td>\n",
       "      <td>3853</td>\n",
       "      <td>3853</td>\n",
       "      <td>3853</td>\n",
       "      <td>3853</td>\n",
       "      <td>3853</td>\n",
       "      <td>3853</td>\n",
       "      <td>3853</td>\n",
       "      <td>3853</td>\n",
       "    </tr>\n",
       "    <tr>\n",
       "      <th rowspan=\"2\" valign=\"top\">telephone</th>\n",
       "      <th>0</th>\n",
       "      <td>14257</td>\n",
       "      <td>14257</td>\n",
       "      <td>14257</td>\n",
       "      <td>14257</td>\n",
       "      <td>14257</td>\n",
       "      <td>14257</td>\n",
       "      <td>14257</td>\n",
       "      <td>14257</td>\n",
       "      <td>14257</td>\n",
       "      <td>14257</td>\n",
       "      <td>14257</td>\n",
       "      <td>14257</td>\n",
       "      <td>14257</td>\n",
       "      <td>14257</td>\n",
       "      <td>14257</td>\n",
       "      <td>14257</td>\n",
       "      <td>14257</td>\n",
       "      <td>14257</td>\n",
       "      <td>14257</td>\n",
       "    </tr>\n",
       "    <tr>\n",
       "      <th>1</th>\n",
       "      <td>787</td>\n",
       "      <td>787</td>\n",
       "      <td>787</td>\n",
       "      <td>787</td>\n",
       "      <td>787</td>\n",
       "      <td>787</td>\n",
       "      <td>787</td>\n",
       "      <td>787</td>\n",
       "      <td>787</td>\n",
       "      <td>787</td>\n",
       "      <td>787</td>\n",
       "      <td>787</td>\n",
       "      <td>787</td>\n",
       "      <td>787</td>\n",
       "      <td>787</td>\n",
       "      <td>787</td>\n",
       "      <td>787</td>\n",
       "      <td>787</td>\n",
       "      <td>787</td>\n",
       "    </tr>\n",
       "  </tbody>\n",
       "</table>\n",
       "</div>"
      ],
      "text/plain": [
       "               age    job  marital  education  default  housing   loan  month  \\\n",
       "contact   y                                                                     \n",
       "cellular  0  22291  22291    22291      22291    22291    22291  22291  22291   \n",
       "          1   3853   3853     3853       3853     3853     3853   3853   3853   \n",
       "telephone 0  14257  14257    14257      14257    14257    14257  14257  14257   \n",
       "          1    787    787      787        787      787      787    787    787   \n",
       "\n",
       "             day_of_week  duration  campaign  pdays  previous  poutcome  \\\n",
       "contact   y                                                               \n",
       "cellular  0        22291     22291     22291  22291     22291     22291   \n",
       "          1         3853      3853      3853   3853      3853      3853   \n",
       "telephone 0        14257     14257     14257  14257     14257     14257   \n",
       "          1          787       787       787    787       787       787   \n",
       "\n",
       "             emp.var.rate  cons.price.idx  cons.conf.idx  euribor3m  \\\n",
       "contact   y                                                           \n",
       "cellular  0         22291           22291          22291      22291   \n",
       "          1          3853            3853           3853       3853   \n",
       "telephone 0         14257           14257          14257      14257   \n",
       "          1           787             787            787        787   \n",
       "\n",
       "             nr.employed  \n",
       "contact   y               \n",
       "cellular  0        22291  \n",
       "          1         3853  \n",
       "telephone 0        14257  \n",
       "          1          787  "
      ]
     },
     "execution_count": 17,
     "metadata": {},
     "output_type": "execute_result"
    }
   ],
   "source": [
    "new_data.groupby(['contact','y']).count() # rate of accept or reject with different contact"
   ]
  },
  {
   "cell_type": "code",
   "execution_count": 18,
   "metadata": {},
   "outputs": [
    {
     "name": "stderr",
     "output_type": "stream",
     "text": [
      "/home/ec2-user/anaconda3/envs/tensorflow_p36/lib/python3.6/site-packages/ipykernel/__main__.py:1: SettingWithCopyWarning: \n",
      "A value is trying to be set on a copy of a slice from a DataFrame\n",
      "\n",
      "See the caveats in the documentation: http://pandas.pydata.org/pandas-docs/stable/indexing.html#indexing-view-versus-copy\n",
      "  if __name__ == '__main__':\n",
      "/home/ec2-user/anaconda3/envs/tensorflow_p36/lib/python3.6/site-packages/ipykernel/__main__.py:2: SettingWithCopyWarning: \n",
      "A value is trying to be set on a copy of a slice from a DataFrame\n",
      "\n",
      "See the caveats in the documentation: http://pandas.pydata.org/pandas-docs/stable/indexing.html#indexing-view-versus-copy\n",
      "  from ipykernel import kernelapp as app\n"
     ]
    }
   ],
   "source": [
    "new_data.y[new_data.y == 'yes'] = 1 # convery label column yes to 1\n",
    "new_data.y[new_data.y == 'no'] = 0 # convery label column no to 0\n"
   ]
  },
  {
   "cell_type": "code",
   "execution_count": 19,
   "metadata": {},
   "outputs": [],
   "source": [
    "new_data = new_data.astype({'y':'int64'})"
   ]
  },
  {
   "cell_type": "code",
   "execution_count": 20,
   "metadata": {},
   "outputs": [
    {
     "name": "stdout",
     "output_type": "stream",
     "text": [
      "<class 'pandas.core.frame.DataFrame'>\n",
      "RangeIndex: 41188 entries, 0 to 41187\n",
      "Data columns (total 21 columns):\n",
      "age               41188 non-null int64\n",
      "job               41188 non-null object\n",
      "marital           41188 non-null object\n",
      "education         41188 non-null object\n",
      "default           41188 non-null object\n",
      "housing           41188 non-null object\n",
      "loan              41188 non-null object\n",
      "contact           41188 non-null object\n",
      "month             41188 non-null object\n",
      "day_of_week       41188 non-null object\n",
      "duration          41188 non-null int64\n",
      "campaign          41188 non-null int64\n",
      "pdays             41188 non-null int64\n",
      "previous          41188 non-null int64\n",
      "poutcome          41188 non-null object\n",
      "emp.var.rate      41188 non-null float64\n",
      "cons.price.idx    41188 non-null float64\n",
      "cons.conf.idx     41188 non-null float64\n",
      "euribor3m         41188 non-null float64\n",
      "nr.employed       41188 non-null float64\n",
      "y                 41188 non-null int64\n",
      "dtypes: float64(5), int64(6), object(10)\n",
      "memory usage: 6.6+ MB\n"
     ]
    }
   ],
   "source": [
    "new_data.info()"
   ]
  },
  {
   "cell_type": "code",
   "execution_count": 21,
   "metadata": {},
   "outputs": [],
   "source": [
    "new_data_df = pd.get_dummies(new_data, columns=['job','marital','education','day_of_week','default','housing','loan',\n",
    "                                 'contact','month','poutcome'], drop_first=True)"
   ]
  },
  {
   "cell_type": "code",
   "execution_count": 22,
   "metadata": {},
   "outputs": [],
   "source": [
    "new_X = new_data_df.loc[:,  new_data_df.columns != 'y'] # select X\n",
    "# new_X = new_X.drop(['duration'],axis=1)"
   ]
  },
  {
   "cell_type": "code",
   "execution_count": 23,
   "metadata": {},
   "outputs": [],
   "source": [
    "new_y = new_data_df.y"
   ]
  },
  {
   "cell_type": "markdown",
   "metadata": {},
   "source": [
    "## train test split"
   ]
  },
  {
   "cell_type": "code",
   "execution_count": 24,
   "metadata": {},
   "outputs": [],
   "source": [
    "X_train,X_test,y_train,y_test = train_test_split(new_X.values,new_y.values,test_size=0.07,random_state=13) # doing train test split"
   ]
  },
  {
   "cell_type": "markdown",
   "metadata": {},
   "source": [
    "##  resample"
   ]
  },
  {
   "cell_type": "code",
   "execution_count": 25,
   "metadata": {},
   "outputs": [],
   "source": [
    "sm = SMOTE(sampling_strategy = 1)\n",
    "X_train_res, y_train_res = sm.fit_resample(X_train, y_train)"
   ]
  },
  {
   "cell_type": "code",
   "execution_count": 26,
   "metadata": {},
   "outputs": [],
   "source": [
    "new_X_train,new_X_test,new_y_train,new_y_test = train_test_split(X_train_res,y_train_res,test_size=0.3,random_state=15)"
   ]
  },
  {
   "cell_type": "code",
   "execution_count": 27,
   "metadata": {},
   "outputs": [
    {
     "data": {
      "text/plain": [
       "(array([0, 1]), array([23786, 23760]))"
      ]
     },
     "execution_count": 27,
     "metadata": {},
     "output_type": "execute_result"
    }
   ],
   "source": [
    "np.unique(new_y_train, return_counts = True) # checking if data is balance now"
   ]
  },
  {
   "cell_type": "markdown",
   "metadata": {},
   "source": [
    "## Logistic Regression"
   ]
  },
  {
   "cell_type": "code",
   "execution_count": 28,
   "metadata": {},
   "outputs": [],
   "source": [
    "logistic_model = LogisticRegression(max_iter= 100,random_state=0)"
   ]
  },
  {
   "cell_type": "code",
   "execution_count": 29,
   "metadata": {},
   "outputs": [
    {
     "name": "stderr",
     "output_type": "stream",
     "text": [
      "/home/ec2-user/anaconda3/envs/tensorflow_p36/lib/python3.6/site-packages/sklearn/linear_model/_logistic.py:764: ConvergenceWarning: lbfgs failed to converge (status=1):\n",
      "STOP: TOTAL NO. of ITERATIONS REACHED LIMIT.\n",
      "\n",
      "Increase the number of iterations (max_iter) or scale the data as shown in:\n",
      "    https://scikit-learn.org/stable/modules/preprocessing.html\n",
      "Please also refer to the documentation for alternative solver options:\n",
      "    https://scikit-learn.org/stable/modules/linear_model.html#logistic-regression\n",
      "  extra_warning_msg=_LOGISTIC_SOLVER_CONVERGENCE_MSG)\n"
     ]
    },
    {
     "data": {
      "text/plain": [
       "LogisticRegression(random_state=0)"
      ]
     },
     "execution_count": 29,
     "metadata": {},
     "output_type": "execute_result"
    }
   ],
   "source": [
    "logistic_model.fit(new_X_train,new_y_train)"
   ]
  },
  {
   "cell_type": "code",
   "execution_count": 30,
   "metadata": {},
   "outputs": [
    {
     "data": {
      "text/plain": [
       "0.8521444695259593"
      ]
     },
     "execution_count": 30,
     "metadata": {},
     "output_type": "execute_result"
    }
   ],
   "source": [
    "logistic_model.score(new_X_test,new_y_test)"
   ]
  },
  {
   "cell_type": "code",
   "execution_count": 31,
   "metadata": {},
   "outputs": [
    {
     "data": {
      "text/plain": [
       "0.8346047156726768"
      ]
     },
     "execution_count": 31,
     "metadata": {},
     "output_type": "execute_result"
    }
   ],
   "source": [
    "logistic_model.score(X_test,y_test)"
   ]
  },
  {
   "cell_type": "code",
   "execution_count": 32,
   "metadata": {},
   "outputs": [
    {
     "name": "stdout",
     "output_type": "stream",
     "text": [
      "accuracy:0.8346047156726768\n",
      "r2:-0.7851258973201072\n",
      "f1:0.5117707267144319\n"
     ]
    }
   ],
   "source": [
    "f.accuracy_(logistic_model,X_test,y_test)"
   ]
  },
  {
   "cell_type": "code",
   "execution_count": 33,
   "metadata": {},
   "outputs": [
    {
     "name": "stdout",
     "output_type": "stream",
     "text": [
      "[[ 250   48]\n",
      " [ 429 2157]]\n",
      "precision:0.36818851251840945, recall:0.8389261744966443\n",
      "total profit:-170\n"
     ]
    }
   ],
   "source": [
    "f.get_confusion_matrix(logistic_model,X_test,y_test,threshold=0.5)\n",
    "# confusion matrix\n",
    "#([tp,fn],\n",
    "#[fp,tn])"
   ]
  },
  {
   "cell_type": "markdown",
   "metadata": {},
   "source": [
    "## Random Forest"
   ]
  },
  {
   "cell_type": "code",
   "execution_count": 34,
   "metadata": {},
   "outputs": [],
   "source": [
    "rf = RandomForestClassifier(n_estimators = 5000, max_depth = 6, min_samples_split = 3, random_state=0)"
   ]
  },
  {
   "cell_type": "code",
   "execution_count": 35,
   "metadata": {},
   "outputs": [
    {
     "data": {
      "text/plain": [
       "RandomForestClassifier(max_depth=6, min_samples_split=3, n_estimators=5000,\n",
       "                       random_state=0)"
      ]
     },
     "execution_count": 35,
     "metadata": {},
     "output_type": "execute_result"
    }
   ],
   "source": [
    "rf.fit(new_X_train,new_y_train)"
   ]
  },
  {
   "cell_type": "code",
   "execution_count": 36,
   "metadata": {},
   "outputs": [
    {
     "name": "stdout",
     "output_type": "stream",
     "text": [
      "accuracy:0.8689320388349514\n",
      "r2:-0.41462806957442466\n",
      "f1:0.5310173697270472\n"
     ]
    }
   ],
   "source": [
    "f.accuracy_(rf,X_test,y_test)"
   ]
  },
  {
   "cell_type": "code",
   "execution_count": 37,
   "metadata": {},
   "outputs": [
    {
     "name": "stdout",
     "output_type": "stream",
     "text": [
      "[[ 214   84]\n",
      " [ 294 2292]]\n",
      "precision:0.421259842519685, recall:0.7181208053691275\n",
      "total profit:-2240\n"
     ]
    }
   ],
   "source": [
    "f.get_confusion_matrix(rf,X_test,y_test,threshold=0.5) \n",
    "# confusion matrix\n",
    "#([tp,fn],\n",
    "#[fp,tn])"
   ]
  },
  {
   "cell_type": "code",
   "execution_count": 38,
   "metadata": {},
   "outputs": [
    {
     "name": "stdout",
     "output_type": "stream",
     "text": [
      "accuracy:0.9225144763961135\n",
      "r2:0.6900574010337104\n",
      "f1:0.9249203556654463\n"
     ]
    }
   ],
   "source": [
    "f.accuracy_(rf,new_X_test,new_y_test) # test validation ,not actual result"
   ]
  },
  {
   "cell_type": "code",
   "execution_count": 39,
   "metadata": {},
   "outputs": [
    {
     "name": "stdout",
     "output_type": "stream",
     "text": [
      "[[9726  476]\n",
      " [1103 9073]]\n",
      "precision:0.898143872933789, recall:0.9533424818663008\n",
      "total profit:600130\n"
     ]
    }
   ],
   "source": [
    "f.get_confusion_matrix(rf,new_X_test,new_y_test,threshold=0.5)# test validation ,not actual result"
   ]
  },
  {
   "cell_type": "markdown",
   "metadata": {},
   "source": [
    "## Gradient Boosting"
   ]
  },
  {
   "cell_type": "code",
   "execution_count": 40,
   "metadata": {},
   "outputs": [],
   "source": [
    "gdb_model = GradientBoostingClassifier(learning_rate = 0.05,random_state=0)"
   ]
  },
  {
   "cell_type": "code",
   "execution_count": 41,
   "metadata": {},
   "outputs": [
    {
     "data": {
      "text/plain": [
       "GradientBoostingClassifier(learning_rate=0.05, random_state=0)"
      ]
     },
     "execution_count": 41,
     "metadata": {},
     "output_type": "execute_result"
    }
   ],
   "source": [
    "gdb_model.fit(new_X_train,new_y_train)"
   ]
  },
  {
   "cell_type": "code",
   "execution_count": 42,
   "metadata": {},
   "outputs": [
    {
     "name": "stdout",
     "output_type": "stream",
     "text": [
      "accuracy:0.8918169209431346\n",
      "r2:-0.1676295177439695\n",
      "f1:0.5873015873015873\n"
     ]
    }
   ],
   "source": [
    "f.accuracy_(gdb_model,X_test,y_test)"
   ]
  },
  {
   "cell_type": "code",
   "execution_count": 43,
   "metadata": {},
   "outputs": [
    {
     "name": "stdout",
     "output_type": "stream",
     "text": [
      "[[ 222   76]\n",
      " [ 236 2350]]\n",
      "precision:0.4847161572052402, recall:0.7449664429530202\n",
      "total profit:860\n"
     ]
    }
   ],
   "source": [
    "f.get_confusion_matrix(gdb_model,X_test,y_test,threshold=0.5)\n",
    "# confusion matrix\n",
    "#([tp,fn],\n",
    "#[fp,tn])"
   ]
  },
  {
   "cell_type": "code",
   "execution_count": 44,
   "metadata": {},
   "outputs": [
    {
     "name": "stdout",
     "output_type": "stream",
     "text": [
      "accuracy:0.9356659142212189\n",
      "r2:0.7426632379703573\n",
      "f1:0.9373057242599588\n"
     ]
    }
   ],
   "source": [
    "f.accuracy_(gdb_model,new_X_test,new_y_test)# test validation ,not actual result"
   ]
  },
  {
   "cell_type": "code",
   "execution_count": 45,
   "metadata": {},
   "outputs": [
    {
     "name": "stdout",
     "output_type": "stream",
     "text": [
      "[[9800  402]\n",
      " [ 909 9267]]\n",
      "precision:0.9151181249416379, recall:0.9605959615761616\n",
      "total profit:618530\n"
     ]
    }
   ],
   "source": [
    "f.get_confusion_matrix(gdb_model,new_X_test,new_y_test,threshold=0.5)# test validation  ,not actual result\n",
    "# confusion matrix\n",
    "#([tp,fn],\n",
    "#[fp,tn])"
   ]
  },
  {
   "cell_type": "markdown",
   "metadata": {},
   "source": [
    "## XGboosting"
   ]
  },
  {
   "cell_type": "code",
   "execution_count": 46,
   "metadata": {},
   "outputs": [],
   "source": [
    "xgb_model = XGBClassifier(colsample_bytree=0.7,\n",
    " learning_rate=0.05,\n",
    " max_depth=7,\n",
    " min_child_weight=11,\n",
    " n_estimators=1000,\n",
    " seed=1337,\n",
    " subsample=0.8)"
   ]
  },
  {
   "cell_type": "code",
   "execution_count": 47,
   "metadata": {},
   "outputs": [
    {
     "data": {
      "text/plain": [
       "XGBClassifier(base_score=0.5, booster='gbtree', colsample_bylevel=1,\n",
       "              colsample_bynode=1, colsample_bytree=0.7, gamma=0, gpu_id=-1,\n",
       "              importance_type='gain', interaction_constraints='',\n",
       "              learning_rate=0.05, max_delta_step=0, max_depth=7,\n",
       "              min_child_weight=11, missing=nan, monotone_constraints='()',\n",
       "              n_estimators=1000, n_jobs=0, num_parallel_tree=1,\n",
       "              random_state=1337, reg_alpha=0, reg_lambda=1, scale_pos_weight=1,\n",
       "              seed=1337, subsample=0.8, tree_method='exact',\n",
       "              validate_parameters=1, verbosity=None)"
      ]
     },
     "execution_count": 47,
     "metadata": {},
     "output_type": "execute_result"
    }
   ],
   "source": [
    "xgb_model.fit(new_X_train,new_y_train)"
   ]
  },
  {
   "cell_type": "code",
   "execution_count": 48,
   "metadata": {},
   "outputs": [
    {
     "name": "stdout",
     "output_type": "stream",
     "text": [
      "accuracy:0.9174757281553398\n",
      "r2:0.10930825249017706\n",
      "f1:0.5734767025089605\n"
     ]
    }
   ],
   "source": [
    "f.accuracy_(xgb_model,X_test,y_test)"
   ]
  },
  {
   "cell_type": "code",
   "execution_count": 49,
   "metadata": {},
   "outputs": [
    {
     "name": "stdout",
     "output_type": "stream",
     "text": [
      "[[ 160  138]\n",
      " [ 100 2486]]\n",
      "precision:0.6153846153846154, recall:0.5369127516778524\n",
      "total profit:-5600\n"
     ]
    }
   ],
   "source": [
    "f.get_confusion_matrix(xgb_model,X_test,y_test,threshold=0.5)\n",
    "# confusion matrix\n",
    "#([tp,fn],\n",
    "#[fp,tn])"
   ]
  },
  {
   "cell_type": "code",
   "execution_count": 50,
   "metadata": {},
   "outputs": [
    {
     "name": "stdout",
     "output_type": "stream",
     "text": [
      "accuracy:0.9503386004514672\n",
      "r2:0.8013540784332582\n",
      "f1:0.9500296267035355\n"
     ]
    }
   ],
   "source": [
    "f.accuracy_(xgb_model,new_X_test,new_y_test)# test validation, ,not actual result"
   ]
  },
  {
   "cell_type": "code",
   "execution_count": 51,
   "metadata": {},
   "outputs": [
    {
     "name": "stdout",
     "output_type": "stream",
     "text": [
      "[[9620  582]\n",
      " [ 430 9746]]\n",
      "precision:0.9572139303482587, recall:0.9429523622819055\n",
      "total profit:602300\n"
     ]
    }
   ],
   "source": [
    "f.get_confusion_matrix(xgb_model,new_X_test,new_y_test,threshold=0.5)# test validation, ,not actual result\n",
    "# confusion matrix\n",
    "#([tp,fn],\n",
    "#[fp,tn])"
   ]
  },
  {
   "cell_type": "markdown",
   "metadata": {},
   "source": [
    "## feature importance for XG boosting"
   ]
  },
  {
   "cell_type": "code",
   "execution_count": 54,
   "metadata": {},
   "outputs": [
    {
     "data": {
      "image/png": "[encoded data removed]",
      "text/plain": [
       "<Figure size 1080x1080 with 1 Axes>"
      ]
     },
     "metadata": {},
     "output_type": "display_data"
    }
   ],
   "source": [
    "f.feat_imp(new_X, xgb_model, 15)\n"
   ]
  },
  {
   "cell_type": "markdown",
   "metadata": {},
   "source": [
    "## Neural Network"
   ]
  },
  {
   "cell_type": "code",
   "execution_count": 56,
   "metadata": {},
   "outputs": [],
   "source": [
    "nn_model = tf.keras.models.Sequential()"
   ]
  },
  {
   "cell_type": "code",
   "execution_count": 57,
   "metadata": {},
   "outputs": [
    {
     "name": "stdout",
     "output_type": "stream",
     "text": [
      "WARNING:tensorflow:From /home/ec2-user/anaconda3/envs/tensorflow_p36/lib/python3.6/site-packages/tensorflow_core/python/ops/resource_variable_ops.py:1630: calling BaseResourceVariable.__init__ (from tensorflow.python.ops.resource_variable_ops) with constraint is deprecated and will be removed in a future version.\n",
      "Instructions for updating:\n",
      "If using Keras pass *_constraint arguments to layers.\n"
     ]
    }
   ],
   "source": [
    "nn_model.add(keras.layers.Dense(units=100, input_dim=53,activation='relu'))\n",
    "nn_model.add(Dropout(0.2))\n",
    "# nn_model.add(keras.layers.Dense(units=60, activation='relu'))\n",
    "# nn_model.add(keras.layers.Dense(units=60, activation='relu'))\n",
    "# nn_model.add(Dropout(0.2))\n",
    "nn_model.add(keras.layers.Dense(units=50, activation='relu'))\n",
    "nn_model.add(Dropout(0.2))\n",
    "nn_model.add(keras.layers.Dense(units=50, activation='relu'))\n",
    "nn_model.add(Dropout(0.2))\n",
    "nn_model.add(keras.layers.Dense(units=20, activation='relu'))\n",
    "nn_model.add(Dropout(0.2))\n",
    "nn_model.add(keras.layers.Dense(units=15, activation='relu'))\n"
   ]
  },
  {
   "cell_type": "code",
   "execution_count": 58,
   "metadata": {},
   "outputs": [],
   "source": [
    "nn_model.add(keras.layers.Dense(units=1,activation='sigmoid'))"
   ]
  },
  {
   "cell_type": "code",
   "execution_count": 59,
   "metadata": {},
   "outputs": [
    {
     "name": "stdout",
     "output_type": "stream",
     "text": [
      "WARNING:tensorflow:From /home/ec2-user/anaconda3/envs/tensorflow_p36/lib/python3.6/site-packages/tensorflow_core/python/ops/nn_impl.py:183: where (from tensorflow.python.ops.array_ops) is deprecated and will be removed in a future version.\n",
      "Instructions for updating:\n",
      "Use tf.where in 2.0, which has the same broadcast rule as np.where\n"
     ]
    }
   ],
   "source": [
    "ops = tf.keras.optimizers.Adam(learning_rate=0.0001)\n",
    "nn_model.compile(loss='binary_crossentropy',\n",
    "              optimizer=ops,\n",
    "                metrics=[tf.keras.metrics.Recall()])"
   ]
  },
  {
   "cell_type": "code",
   "execution_count": 60,
   "metadata": {},
   "outputs": [],
   "source": [
    "history = History()"
   ]
  },
  {
   "cell_type": "code",
   "execution_count": 61,
   "metadata": {},
   "outputs": [
    {
     "name": "stdout",
     "output_type": "stream",
     "text": [
      "Train on 47546 samples, validate on 20378 samples\n",
      "WARNING:tensorflow:OMP_NUM_THREADS is no longer used by the default Keras config. To configure the number of threads, use tf.config.threading APIs.\n",
      "Epoch 1/50\n",
      "47546/47546 [==============================] - 18s 385us/sample - loss: 14.6576 - recall: 0.4703 - val_loss: 0.6874 - val_recall: 0.2373\n",
      "Epoch 2/50\n",
      "47546/47546 [==============================] - 17s 366us/sample - loss: 1.9134 - recall: 0.5074 - val_loss: 0.6902 - val_recall: 0.7941\n",
      "Epoch 3/50\n",
      "47546/47546 [==============================] - 17s 364us/sample - loss: 0.8488 - recall: 0.5816 - val_loss: 0.6571 - val_recall: 0.8519\n",
      "Epoch 4/50\n",
      "47546/47546 [==============================] - 17s 365us/sample - loss: 0.7047 - recall: 0.6610 - val_loss: 0.6511 - val_recall: 0.7002\n",
      "Epoch 5/50\n",
      "47546/47546 [==============================] - 17s 365us/sample - loss: 0.6476 - recall: 0.7246 - val_loss: 0.5407 - val_recall: 0.6902\n",
      "Epoch 6/50\n",
      "47546/47546 [==============================] - 20s 418us/sample - loss: 0.5774 - recall: 0.7769 - val_loss: 0.4984 - val_recall: 0.7251\n",
      "Epoch 7/50\n",
      "47546/47546 [==============================] - 17s 365us/sample - loss: 0.5466 - recall: 0.7899 - val_loss: 0.5039 - val_recall: 0.7347\n",
      "Epoch 8/50\n",
      "47546/47546 [==============================] - 17s 366us/sample - loss: 0.5288 - recall: 0.8033 - val_loss: 0.4858 - val_recall: 0.7783\n",
      "Epoch 9/50\n",
      "47546/47546 [==============================] - 17s 367us/sample - loss: 0.5109 - recall: 0.8079 - val_loss: 0.4799 - val_recall: 0.7774\n",
      "Epoch 10/50\n",
      "47546/47546 [==============================] - 17s 365us/sample - loss: 0.4914 - recall: 0.8129 - val_loss: 0.4675 - val_recall: 0.7833\n",
      "Epoch 11/50\n",
      "47546/47546 [==============================] - 17s 366us/sample - loss: 0.4805 - recall: 0.8200 - val_loss: 0.4714 - val_recall: 0.8037\n",
      "Epoch 12/50\n",
      "47546/47546 [==============================] - 17s 366us/sample - loss: 0.4673 - recall: 0.8292 - val_loss: 0.4559 - val_recall: 0.8493\n",
      "Epoch 13/50\n",
      "47546/47546 [==============================] - 18s 370us/sample - loss: 0.4572 - recall: 0.8515 - val_loss: 0.4536 - val_recall: 0.8769\n",
      "Epoch 14/50\n",
      "47546/47546 [==============================] - 17s 366us/sample - loss: 0.4434 - recall: 0.8671 - val_loss: 0.4265 - val_recall: 0.8529\n",
      "Epoch 15/50\n",
      "47546/47546 [==============================] - 17s 366us/sample - loss: 0.4248 - recall: 0.8771 - val_loss: 0.4001 - val_recall: 0.8787\n",
      "Epoch 16/50\n",
      "47546/47546 [==============================] - 19s 402us/sample - loss: 0.4010 - recall: 0.8899 - val_loss: 0.3785 - val_recall: 0.9136\n",
      "Epoch 17/50\n",
      "47546/47546 [==============================] - 17s 366us/sample - loss: 0.3752 - recall: 0.9066 - val_loss: 0.3506 - val_recall: 0.9320\n",
      "Epoch 18/50\n",
      "47546/47546 [==============================] - 17s 366us/sample - loss: 0.3603 - recall: 0.9163 - val_loss: 0.3585 - val_recall: 0.9656\n",
      "Epoch 19/50\n",
      "47546/47546 [==============================] - 17s 366us/sample - loss: 0.3545 - recall: 0.9165 - val_loss: 0.3392 - val_recall: 0.9318\n",
      "Epoch 20/50\n",
      "47546/47546 [==============================] - 18s 369us/sample - loss: 0.3499 - recall: 0.9192 - val_loss: 0.3343 - val_recall: 0.9198\n",
      "Epoch 21/50\n",
      "47546/47546 [==============================] - 17s 366us/sample - loss: 0.3428 - recall: 0.9173 - val_loss: 0.3418 - val_recall: 0.9282\n",
      "Epoch 22/50\n",
      "47546/47546 [==============================] - 17s 366us/sample - loss: 0.3356 - recall: 0.9176 - val_loss: 0.3405 - val_recall: 0.9347\n",
      "Epoch 23/50\n",
      "47546/47546 [==============================] - 17s 367us/sample - loss: 0.3331 - recall: 0.9188 - val_loss: 0.3432 - val_recall: 0.9256\n",
      "Epoch 24/50\n",
      "47546/47546 [==============================] - 17s 366us/sample - loss: 0.3301 - recall: 0.9191 - val_loss: 0.3534 - val_recall: 0.9655\n",
      "Epoch 25/50\n",
      "47546/47546 [==============================] - 17s 366us/sample - loss: 0.3260 - recall: 0.9171 - val_loss: 0.3331 - val_recall: 0.9569\n",
      "Epoch 26/50\n",
      "47546/47546 [==============================] - 18s 370us/sample - loss: 0.3251 - recall: 0.9206 - val_loss: 0.3351 - val_recall: 0.9112\n",
      "Epoch 27/50\n",
      "47546/47546 [==============================] - 20s 412us/sample - loss: 0.3222 - recall: 0.9210 - val_loss: 0.3408 - val_recall: 0.9678\n",
      "Epoch 28/50\n",
      "47546/47546 [==============================] - 17s 366us/sample - loss: 0.3222 - recall: 0.9207 - val_loss: 0.3286 - val_recall: 0.9255\n",
      "Epoch 29/50\n",
      "47546/47546 [==============================] - 17s 366us/sample - loss: 0.3190 - recall: 0.9211 - val_loss: 0.3596 - val_recall: 0.9667\n",
      "Epoch 30/50\n",
      "47546/47546 [==============================] - 17s 366us/sample - loss: 0.3183 - recall: 0.9200 - val_loss: 0.3258 - val_recall: 0.9534\n",
      "Epoch 31/50\n",
      "47546/47546 [==============================] - 17s 366us/sample - loss: 0.3176 - recall: 0.9242 - val_loss: 0.3334 - val_recall: 0.9567\n",
      "Epoch 32/50\n",
      "47546/47546 [==============================] - 17s 366us/sample - loss: 0.3162 - recall: 0.9214 - val_loss: 0.3212 - val_recall: 0.9352\n",
      "Epoch 33/50\n",
      "47546/47546 [==============================] - 17s 366us/sample - loss: 0.3131 - recall: 0.9227 - val_loss: 0.3188 - val_recall: 0.9444\n",
      "Epoch 34/50\n",
      "47546/47546 [==============================] - 18s 369us/sample - loss: 0.3133 - recall: 0.9242 - val_loss: 0.3312 - val_recall: 0.9479\n",
      "Epoch 35/50\n",
      "47546/47546 [==============================] - 17s 366us/sample - loss: 0.3133 - recall: 0.9258 - val_loss: 0.3187 - val_recall: 0.9532\n",
      "Epoch 36/50\n",
      "47546/47546 [==============================] - 17s 366us/sample - loss: 0.3113 - recall: 0.9226 - val_loss: 0.3301 - val_recall: 0.9653\n",
      "Epoch 37/50\n",
      "47546/47546 [==============================] - 20s 416us/sample - loss: 0.3098 - recall: 0.9229 - val_loss: 0.3246 - val_recall: 0.9494\n",
      "Epoch 38/50\n",
      "47546/47546 [==============================] - 17s 366us/sample - loss: 0.3094 - recall: 0.9222 - val_loss: 0.3310 - val_recall: 0.9678\n",
      "Epoch 39/50\n",
      "47546/47546 [==============================] - 17s 366us/sample - loss: 0.3072 - recall: 0.9260 - val_loss: 0.3085 - val_recall: 0.9007\n",
      "Epoch 40/50\n",
      "47546/47546 [==============================] - 17s 366us/sample - loss: 0.3078 - recall: 0.9233 - val_loss: 0.3148 - val_recall: 0.9562\n",
      "Epoch 41/50\n",
      "47546/47546 [==============================] - 18s 369us/sample - loss: 0.3041 - recall: 0.9237 - val_loss: 0.3110 - val_recall: 0.9597\n",
      "Epoch 42/50\n",
      "47546/47546 [==============================] - 17s 366us/sample - loss: 0.3066 - recall: 0.9263 - val_loss: 0.3180 - val_recall: 0.9541\n",
      "Epoch 43/50\n",
      "47546/47546 [==============================] - 17s 366us/sample - loss: 0.3056 - recall: 0.9257 - val_loss: 0.3376 - val_recall: 0.9659\n",
      "Epoch 44/50\n",
      "47546/47546 [==============================] - 18s 370us/sample - loss: 0.3035 - recall: 0.9297 - val_loss: 0.3437 - val_recall: 0.9752\n",
      "Epoch 45/50\n",
      "47546/47546 [==============================] - 17s 362us/sample - loss: 0.3035 - recall: 0.9269 - val_loss: 0.3141 - val_recall: 0.9573\n",
      "Epoch 46/50\n",
      "47546/47546 [==============================] - 17s 361us/sample - loss: 0.3033 - recall: 0.9252 - val_loss: 0.3080 - val_recall: 0.9377\n",
      "Epoch 47/50\n",
      "47546/47546 [==============================] - 20s 412us/sample - loss: 0.3025 - recall: 0.9273 - val_loss: 0.3287 - val_recall: 0.9680\n",
      "Epoch 48/50\n",
      "47546/47546 [==============================] - 17s 362us/sample - loss: 0.3014 - recall: 0.9261 - val_loss: 0.3241 - val_recall: 0.9666\n",
      "Epoch 49/50\n",
      "47546/47546 [==============================] - 17s 362us/sample - loss: 0.3005 - recall: 0.9279 - val_loss: 0.3269 - val_recall: 0.9592\n",
      "Epoch 50/50\n",
      "47546/47546 [==============================] - 17s 363us/sample - loss: 0.2995 - recall: 0.9270 - val_loss: 0.3334 - val_recall: 0.9797\n"
     ]
    }
   ],
   "source": [
    "his =nn_model.fit(new_X_train, new_y_train, epochs=50, batch_size=16,validation_data = (new_X_test, new_y_test),\n",
    "                     callbacks=[history])\n"
   ]
  },
  {
   "cell_type": "code",
   "execution_count": 167,
   "metadata": {},
   "outputs": [
    {
     "name": "stdout",
     "output_type": "stream",
     "text": [
      "dict_keys(['loss', 'recall', 'val_loss', 'val_recall'])\n"
     ]
    }
   ],
   "source": [
    "print(history.history.keys()) # print out names on history"
   ]
  },
  {
   "cell_type": "code",
   "execution_count": 168,
   "metadata": {},
   "outputs": [
    {
     "data": {
      "text/plain": [
       "<matplotlib.legend.Legend at 0x7f8830165390>"
      ]
     },
     "execution_count": 168,
     "metadata": {},
     "output_type": "execute_result"
    },
    {
     "data": {
      "image/png": "[encoded data removed]",
      "text/plain": [
       "<Figure size 1800x1080 with 2 Axes>"
      ]
     },
     "metadata": {},
     "output_type": "display_data"
    }
   ],
   "source": [
    "# this is history of validation loss.\n",
    "# testing if neural network model is working correcting.\n",
    "train_loss = history.history['loss']\n",
    "val_loss   = history.history['val_loss']\n",
    "# everytime you run the neural network model, the history add up. such as (recall,recall_1,recall_2)\n",
    "train_recall =history.history['recall'] # need to follow the previous cell output to change string\n",
    "val_recall = history.history['val_recall'] #need to follow the previous cell output to change string\n",
    "xc         = range(50)\n",
    "\n",
    "fig,ax = plt.subplots(1,2,figsize=(25,15))\n",
    "\n",
    "ax[0].plot(xc, train_recall,label='train_recall')\n",
    "ax[0].plot(xc, val_recall,label='val_recall')\n",
    "ax[1].plot(xc, train_loss,label='train_loss')\n",
    "ax[1].plot(xc, val_loss,label='val_loss')\n",
    "\n",
    "ax[1].set_ylim([0.25,0.75])\n",
    "\n",
    "ax[0].legend()\n",
    "ax[1].legend()\n",
    "\n"
   ]
  },
  {
   "cell_type": "code",
   "execution_count": null,
   "metadata": {},
   "outputs": [],
   "source": [
    "nn_model.summary()"
   ]
  },
  {
   "cell_type": "code",
   "execution_count": 252,
   "metadata": {},
   "outputs": [
    {
     "name": "stdout",
     "output_type": "stream",
     "text": [
      "[[ 290    8]\n",
      " [ 600 1986]]\n",
      "precision:0.3258426966292135, recall:0.9731543624161074\n",
      "total profit:1500\n"
     ]
    }
   ],
   "source": [
    "f.nn_get_confusion_matrix(nn_model,X_test,y_test,threshold=0.5)"
   ]
  },
  {
   "cell_type": "code",
   "execution_count": 285,
   "metadata": {},
   "outputs": [
    {
     "name": "stdout",
     "output_type": "stream",
     "text": [
      "dict_keys(['loss', 'recall_12', 'val_loss', 'val_recall_12'])\n"
     ]
    }
   ],
   "source": [
    "print(history.history.keys())"
   ]
  },
  {
   "cell_type": "markdown",
   "metadata": {},
   "source": [
    "## Cost Benefit matrix"
   ]
  },
  {
   "cell_type": "code",
   "execution_count": 195,
   "metadata": {},
   "outputs": [
    {
     "data": {
      "text/plain": [
       "array([[  70, -100],\n",
       "       [ -30,    0]])"
      ]
     },
     "execution_count": 195,
     "metadata": {},
     "output_type": "execute_result"
    }
   ],
   "source": [
    "cost_benefit_1 = np.array([[70, -100], [-30, 0]])\n",
    "# cost benefit matrix\n",
    "#([tp,fn],\n",
    "#[fp,tn])\n",
    "cost_benefit_1"
   ]
  },
  {
   "cell_type": "markdown",
   "metadata": {},
   "source": [
    "# Profit Curve"
   ]
  },
  {
   "cell_type": "code",
   "execution_count": 169,
   "metadata": {},
   "outputs": [
    {
     "data": {
      "image/png": "[encoded data removed]",
      "text/plain": [
       "<Figure size 432x288 with 1 Axes>"
      ]
     },
     "metadata": {},
     "output_type": "display_data"
    }
   ],
   "source": [
    "f.profit_curve(rf,gdb_model,logistic_model,xgb_model,nn_model,X_test,y_test)"
   ]
  },
  {
   "cell_type": "markdown",
   "metadata": {},
   "source": [
    "# Result"
   ]
  },
  {
   "cell_type": "code",
   "execution_count": 182,
   "metadata": {},
   "outputs": [
    {
     "data": {
      "text/plain": [
       "(6130, 0.9000000000000002)"
      ]
     },
     "execution_count": 182,
     "metadata": {},
     "output_type": "execute_result"
    }
   ],
   "source": [
    "f.find_best_profit(xgb_model,X_test,y_test)\n",
    "# result for xgboosting with profit of $6130 threshold 0.9"
   ]
  },
  {
   "cell_type": "code",
   "execution_count": 286,
   "metadata": {},
   "outputs": [
    {
     "data": {
      "text/plain": [
       "(3960, 0.45000000000000007)"
      ]
     },
     "execution_count": 286,
     "metadata": {},
     "output_type": "execute_result"
    }
   ],
   "source": [
    "f.find_best_profit_nn(nn_model,X_test,y_test)\n",
    "# result for neural network with profit of $3960 threshold 0.45"
   ]
  },
  {
   "cell_type": "code",
   "execution_count": 184,
   "metadata": {},
   "outputs": [
    {
     "data": {
      "text/plain": [
       "(2830, 0.6000000000000002)"
      ]
     },
     "execution_count": 184,
     "metadata": {},
     "output_type": "execute_result"
    }
   ],
   "source": [
    "f.find_best_profit(rf,X_test,y_test)\n",
    "# result for random forest with profit of $2830 threshold 0.6"
   ]
  },
  {
   "cell_type": "code",
   "execution_count": 186,
   "metadata": {},
   "outputs": [
    {
     "data": {
      "text/plain": [
       "(3400, 0.5499999999999999)"
      ]
     },
     "execution_count": 186,
     "metadata": {},
     "output_type": "execute_result"
    }
   ],
   "source": [
    "f.find_best_profit(gdb_model,X_test,y_test)\n",
    "# result for gradient boosting with profit of $3400 threshold 0.549"
   ]
  },
  {
   "cell_type": "code",
   "execution_count": 187,
   "metadata": {},
   "outputs": [
    {
     "data": {
      "text/plain": [
       "(3490, 0.5499999999999999)"
      ]
     },
     "execution_count": 187,
     "metadata": {},
     "output_type": "execute_result"
    }
   ],
   "source": [
    "f.find_best_profit(logistic_model,X_test,y_test)\n",
    "# result for logistic regession with profit of $3490 threshold 0.549"
   ]
  },
  {
   "cell_type": "markdown",
   "metadata": {},
   "source": [
    "A false negative is a test result that indicates a person does not have a disease or condition when the person actually does have it, according to the National Institute of Health (NIH). False negative test results can occur in many different medical tests, from tests for pregnancy , tuberculosis or Lyme disease to tests for the presence of drugs or alcohol in the body.\n",
    "\n",
    "Correspondingly, a false-positive test result indicates that a person has a specific disease or condition when the person actually does not have it. An example of a false positive is when a particular test designed to detect melanoma, a type of skin cancer , tests positive for the disease, even though the person does not have cancer."
   ]
  },
  {
   "cell_type": "markdown",
   "metadata": {},
   "source": [
    "## ROC curve"
   ]
  },
  {
   "cell_type": "code",
   "execution_count": 69,
   "metadata": {},
   "outputs": [
    {
     "data": {
      "image/png": "[encoded data removed]",
      "text/plain": [
       "<Figure size 432x288 with 1 Axes>"
      ]
     },
     "metadata": {},
     "output_type": "display_data"
    }
   ],
   "source": [
    "f.roc_curve_(rf,gdb_model,logistic_model,xgb_model,nn_model,X_test,y_test)"
   ]
  },
  {
   "cell_type": "markdown",
   "metadata": {},
   "source": [
    "## grid search for best model(XGBoosting)"
   ]
  },
  {
   "cell_type": "code",
   "execution_count": 131,
   "metadata": {},
   "outputs": [],
   "source": [
    "from sklearn.model_selection import cross_validate"
   ]
  },
  {
   "cell_type": "markdown",
   "metadata": {},
   "source": [
    "XGBClassifier(base_score=0.5, booster='gbtree', colsample_bylevel=1,\n",
    "              colsample_bynode=1, colsample_bytree=1, gamma=0, gpu_id=-1,\n",
    "              importance_type='gain', interaction_constraints='',\n",
    "              learning_rate=0.300000012, max_delta_step=0, max_depth=6,\n",
    "              min_child_weight=1, missing=nan, monotone_constraints='()',\n",
    "              n_estimators=100, n_jobs=0, num_parallel_tree=1,\n",
    "              objective='binary:logistic', random_state=0, reg_alpha=0,\n",
    "              reg_lambda=1, scale_pos_weight=1, subsample=1,\n",
    "              tree_method='exact', validate_parameters=1, verbosity=None)"
   ]
  },
  {
   "cell_type": "code",
   "execution_count": 123,
   "metadata": {},
   "outputs": [],
   "source": [
    "from sklearn.grid_Search import GridSearchCV"
   ]
  },
  {
   "cell_type": "code",
   "execution_count": 168,
   "metadata": {},
   "outputs": [],
   "source": [
    "parameters = {'nthread':[4], #when use hyperthread, xgboost may become slower\n",
    "              'learning_rate': [0.05,0.1], #so called `eta` value\n",
    "              'max_depth': (6,7,8),\n",
    "              'min_child_weight': [11],\n",
    "              'silent': [1],\n",
    "              'subsample': [0.8],\n",
    "              'colsample_bytree': [0.7],\n",
    "              'n_estimators': [1000], #number of trees, change it to 1000 for better results\n",
    "              'seed': [1337]}"
   ]
  },
  {
   "cell_type": "code",
   "execution_count": 169,
   "metadata": {},
   "outputs": [],
   "source": [
    "clf = GridSearchCV(xgb_model,parameters,n_jobs=5,cv=StratifiedKFold(n_splits=5, shuffle=True), \n",
    "                   scoring='f1',\n",
    "                   verbose=2, refit=True)"
   ]
  },
  {
   "cell_type": "code",
   "execution_count": 170,
   "metadata": {},
   "outputs": [
    {
     "name": "stdout",
     "output_type": "stream",
     "text": [
      "Fitting 5 folds for each of 6 candidates, totalling 30 fits\n"
     ]
    },
    {
     "name": "stderr",
     "output_type": "stream",
     "text": [
      "[Parallel(n_jobs=5)]: Using backend LokyBackend with 5 concurrent workers.\n",
      "[Parallel(n_jobs=5)]: Done  30 out of  30 | elapsed: 14.8min finished\n"
     ]
    },
    {
     "name": "stdout",
     "output_type": "stream",
     "text": [
      "[00:47:56] WARNING: /workspace/src/learner.cc:480: \n",
      "Parameters: { silent } might not be used.\n",
      "\n",
      "  This may not be accurate due to some parameters are only used in language bindings but\n",
      "  passed down to XGBoost core.  Or some parameters are not used but slip through this\n",
      "  verification. Please open an issue if you find above cases.\n",
      "\n",
      "\n"
     ]
    },
    {
     "data": {
      "text/plain": [
       "GridSearchCV(cv=StratifiedKFold(n_splits=5, random_state=None, shuffle=True),\n",
       "             error_score=nan,\n",
       "             estimator=XGBClassifier(base_score=None, booster=None,\n",
       "                                     colsample_bylevel=None,\n",
       "                                     colsample_bynode=None,\n",
       "                                     colsample_bytree=None, gamma=None,\n",
       "                                     gpu_id=None, importance_type='gain',\n",
       "                                     interaction_constraints=None,\n",
       "                                     learning_rate=None, max_delta_step=None,\n",
       "                                     max_depth=None, min_child_...\n",
       "                                     subsample=None, tree_method=None,\n",
       "                                     validate_parameters=None, verbosity=None),\n",
       "             iid='deprecated', n_jobs=5,\n",
       "             param_grid={'colsample_bytree': [0.7],\n",
       "                         'learning_rate': [0.05, 0.1], 'max_depth': (6, 7, 8),\n",
       "                         'min_child_weight': [11], 'n_estimators': [1000],\n",
       "                         'nthread': [4], 'seed': [1337], 'silent': [1],\n",
       "                         'subsample': [0.8]},\n",
       "             pre_dispatch='2*n_jobs', refit=True, return_train_score=False,\n",
       "             scoring='f1', verbose=2)"
      ]
     },
     "execution_count": 170,
     "metadata": {},
     "output_type": "execute_result"
    }
   ],
   "source": [
    "clf.fit(new_X_train,new_y_train)"
   ]
  },
  {
   "cell_type": "code",
   "execution_count": 172,
   "metadata": {},
   "outputs": [
    {
     "data": {
      "text/plain": [
       "{'colsample_bytree': 0.7,\n",
       " 'learning_rate': 0.05,\n",
       " 'max_depth': 7,\n",
       " 'min_child_weight': 11,\n",
       " 'n_estimators': 1000,\n",
       " 'nthread': 4,\n",
       " 'seed': 1337,\n",
       " 'silent': 1,\n",
       " 'subsample': 0.8}"
      ]
     },
     "execution_count": 172,
     "metadata": {},
     "output_type": "execute_result"
    }
   ],
   "source": [
    "clf.best_params_"
   ]
  }
 ],
 "metadata": {
  "kernelspec": {
   "display_name": "conda_tensorflow_p36",
   "language": "python",
   "name": "conda_tensorflow_p36"
  },
  "language_info": {
   "codemirror_mode": {
    "name": "ipython",
    "version": 3
   },
   "file_extension": ".py",
   "mimetype": "text/x-python",
   "name": "python",
   "nbconvert_exporter": "python",
   "pygments_lexer": "ipython3",
   "version": "3.6.6"
  }
 },
 "nbformat": 4,
 "nbformat_minor": 4
}
